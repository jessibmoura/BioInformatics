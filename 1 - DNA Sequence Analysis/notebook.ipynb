{
 "cells": [
  {
   "cell_type": "code",
   "execution_count": 6,
   "id": "ea00c4d0",
   "metadata": {},
   "outputs": [],
   "source": [
    "from Bio import SeqIO\n",
    "from Bio.Seq import Seq"
   ]
  },
  {
   "cell_type": "markdown",
   "id": "69617c75",
   "metadata": {},
   "source": [
    "### About the DNA observed:\n",
    "\n",
    "- Gene: HBB (Hemoglobin, subunit beta)\n",
    "\n",
    "- Organism: Homo sapiens (Human)\n",
    "\n",
    "- Function: Encodes the β-globin protein, which combines with α-globin to form hemoglobin, the protein in red blood cells that carries oxygen.\n",
    "\n",
    "- Clinical relevance: Mutations in this gene can cause sickle cell anemia and β-thalassemia."
   ]
  },
  {
   "cell_type": "code",
   "execution_count": 3,
   "id": "cae03a55",
   "metadata": {},
   "outputs": [],
   "source": [
    "record = SeqIO.read(\"data\\\\sequence.fasta\",\"fasta\")\n",
    "dna_seq = str(record.seq)"
   ]
  },
  {
   "cell_type": "code",
   "execution_count": 4,
   "id": "83bfdc72",
   "metadata": {},
   "outputs": [
    {
     "name": "stdout",
     "output_type": "stream",
     "text": [
      "Sequence length: 628\n",
      "First 50 bases: ACATTTGCTTCTGACACAACTGTGTTCACTAGCAACCTCAAACAGACACC\n"
     ]
    }
   ],
   "source": [
    "print(f\"Sequence length: {len(dna_seq)}\")\n",
    "print(f\"First 50 bases: {dna_seq[:50]}\")"
   ]
  },
  {
   "cell_type": "code",
   "execution_count": 5,
   "id": "e169bec6",
   "metadata": {},
   "outputs": [
    {
     "data": {
      "text/plain": [
       "'ACATTTGCTTCTGACACAACTGTGTTCACTAGCAACCTCAAACAGACACCATGGTGCATCTGACTCCTGAGGAGAAGTCTGCCGTTACTGCCCTGTGGGGCAAGGTGAACGTGGATGAAGTTGGTGGTGAGGCCCTGGGCAGGCTGCTGGTGGTCTACCCTTGGACCCAGAGGTTCTTTGAGTCCTTTGGGGATCTGTCCACTCCTGATGCTGTTATGGGCAACCCTAAGGTGAAGGCTCATGGCAAGAAAGTGCTCGGTGCCTTTAGTGATGGCCTGGCTCACCTGGACAACCTCAAGGGCACCTTTGCCACACTGAGTGAGCTGCACTGTGACAAGCTGCACGTGGATCCTGAGAACTTCAGGCTCCTGGGCAACGTGCTGGTCTGTGTGCTGGCCCATCACTTTGGCAAAGAATTCACCCCACCAGTGCAGGCTGCCTATCAGAAAGTGGTGGCTGGTGTGGCTAATGCCCTGGCCCACAAGTATCACTAAGCTCGCTTTCTTGCTGTCCAATTTCTATTAAAGGTTCCTTTGTTCCCTAAGTCCAACTACTAAACTGGGGGATATTATGAAGGGCCTTGAGCATCTGGATTCTGCCTAATAAAAAACATTTATTTTCATTGCAA'"
      ]
     },
     "execution_count": 5,
     "metadata": {},
     "output_type": "execute_result"
    }
   ],
   "source": [
    "dna_seq"
   ]
  },
  {
   "cell_type": "markdown",
   "id": "e6573ff4",
   "metadata": {},
   "source": [
    "#### 1. Basic Statistics"
   ]
  },
  {
   "cell_type": "code",
   "execution_count": 7,
   "id": "59fc58cf",
   "metadata": {},
   "outputs": [],
   "source": [
    "sequence = Seq(dna_seq)"
   ]
  },
  {
   "cell_type": "code",
   "execution_count": 9,
   "id": "8d97d6a1",
   "metadata": {},
   "outputs": [
    {
     "name": "stdout",
     "output_type": "stream",
     "text": [
      "Sequence length: 628 bp\n",
      "A: 139\n",
      "T: 167\n",
      "G: 165\n",
      "C: 157\n",
      "GC Content: 51.27%\n"
     ]
    }
   ],
   "source": [
    "# Basic statistics\n",
    "\n",
    "length = len(sequence)\n",
    "gc_content = 100 * (sequence.count(\"G\") + sequence.count(\"C\")) / length\n",
    "\n",
    "print(f\"Sequence length: {length} bp\")\n",
    "print(f\"A: {sequence.count('A')}\")\n",
    "print(f\"T: {sequence.count('T')}\")\n",
    "print(f\"G: {sequence.count('G')}\")\n",
    "print(f\"C: {sequence.count('C')}\")\n",
    "print(f\"GC Content: {gc_content:.2f}%\")"
   ]
  },
  {
   "cell_type": "markdown",
   "id": "29d833e1",
   "metadata": {},
   "source": [
    "#### 2. Reverse Complement"
   ]
  },
  {
   "cell_type": "code",
   "execution_count": 11,
   "id": "b55ad835",
   "metadata": {},
   "outputs": [
    {
     "name": "stdout",
     "output_type": "stream",
     "text": [
      "Original:        ACATTTGCTTCTGACACAACTGTGTTCACTAGCAACCTCAAACAGACACC\n",
      "Reverse Complement: TTGCAATGAAAATAAATGTTTTTTATTAGGCAGAATCCAGATGCTCAAGG\n"
     ]
    }
   ],
   "source": [
    "rev_comp = sequence.reverse_complement()\n",
    "\n",
    "print(\"Original:       \", sequence[:50])\n",
    "print(\"Reverse Complement:\", rev_comp[:50])"
   ]
  }
 ],
 "metadata": {
  "kernelspec": {
   "display_name": ".venv",
   "language": "python",
   "name": "python3"
  },
  "language_info": {
   "codemirror_mode": {
    "name": "ipython",
    "version": 3
   },
   "file_extension": ".py",
   "mimetype": "text/x-python",
   "name": "python",
   "nbconvert_exporter": "python",
   "pygments_lexer": "ipython3",
   "version": "3.12.0"
  }
 },
 "nbformat": 4,
 "nbformat_minor": 5
}
